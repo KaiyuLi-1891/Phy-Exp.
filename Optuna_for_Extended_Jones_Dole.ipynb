{
 "cells": [
  {
   "cell_type": "code",
   "execution_count": null,
   "id": "3f2e1812",
   "metadata": {},
   "outputs": [],
   "source": [
    "import optuna\n",
    "import numpy as np\n",
    "from scipy.optimize import curve_fit\n",
    "\n",
    "eta_list1 = [0.8901,0.919,0.9237,0.9272,0.9488,0.9506,0.9626,1.0312,1.0397,1.0715,1.2368,1.2621,1.3005,1.1129,1.1632,1.1930,1.2328,1.300,1.3902,1.4117,1.4658,1.5218,1.5591,1.5887,1.6068,1.6490,1.7145,1.7585]\n",
    "eta_list = [x/0.8901 for x in eta_list1]\n",
    "c_list = [0,0.0234,0.0275,0.0525,0.0576,0.0632,0.0794,0.0933,0.1124,0.1435,0.1648,0.2187,0.3395,0.028,0.0439,0.1486,0.1554,0.1735,0.2499,0.4476,0.5614,0.7198,0.9807,1.0034,1.3174,1.6728,1.8995,2.0010]\n",
    "\n",
    "\n",
    "def viscosity_model(C, B, D, E):\n",
    "    return 1 + 0.0061 * np.sqrt(C) + B * C + D * C**2 + E * C**3.5\n",
    "\n",
    "def objective(trial):\n",
    "\n",
    "#     A = trial.suggest_float('A', 0, 0.01)\n",
    "    B = trial.suggest_float('B', 0.05, 0.1)\n",
    "    D = trial.suggest_float('D', 0.008, 0.015)\n",
    "    E = trial.suggest_float('E', 0.0005, 0.001)\n",
    "    \n",
    " \n",
    "    popt, _ = curve_fit(viscosity_model, c_list, eta_list, p0=[ B, D, E])\n",
    "    \n",
    "    predicted_eta = viscosity_model(np.array(c_list), *popt)\n",
    "    \n",
    "    # 计算目标函数值（如均方误差）\n",
    "    mse = np.mean((np.array(eta_list) - predicted_eta) ** 2)\n",
    "    \n",
    "    return mse\n",
    "\n",
    "study = optuna.create_study(direction='minimize')\n",
    "study.optimize(objective, n_trials=1000)\n",
    "\n",
    "best_params = study.best_params\n",
    "print(\"Best parameters:\", best_params)"
   ]
  }
 ],
 "metadata": {
  "kernelspec": {
   "display_name": "Python 3 (ipykernel)",
   "language": "python",
   "name": "python3"
  },
  "language_info": {
   "codemirror_mode": {
    "name": "ipython",
    "version": 3
   },
   "file_extension": ".py",
   "mimetype": "text/x-python",
   "name": "python",
   "nbconvert_exporter": "python",
   "pygments_lexer": "ipython3",
   "version": "3.9.13"
  }
 },
 "nbformat": 4,
 "nbformat_minor": 5
}
